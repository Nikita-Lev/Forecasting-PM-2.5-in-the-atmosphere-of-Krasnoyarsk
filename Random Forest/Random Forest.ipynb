{
 "cells": [
  {
   "cell_type": "code",
   "execution_count": 1,
   "metadata": {},
   "outputs": [],
   "source": [
    "import sys\n",
    "sys.path.append('../')\n",
    "\n",
    "from FeatureModels import *\n",
    "from sklearn.ensemble import RandomForestRegressor"
   ]
  },
  {
   "cell_type": "code",
   "execution_count": 2,
   "metadata": {},
   "outputs": [],
   "source": [
    "%load_ext autoreload"
   ]
  },
  {
   "cell_type": "code",
   "execution_count": 3,
   "metadata": {},
   "outputs": [],
   "source": [
    "%autoreload 2 "
   ]
  },
  {
   "cell_type": "code",
   "execution_count": 4,
   "metadata": {},
   "outputs": [],
   "source": [
    "sensor = 's'\n",
    "fill = '_fill'\n",
    "\n",
    "district = 'Mean'\n",
    "\n",
    "#savePath = 'Results/Results RF large periods.xlsx'"
   ]
  },
  {
   "cell_type": "code",
   "execution_count": 5,
   "metadata": {},
   "outputs": [
    {
     "data": {
      "text/plain": [
       "{'n_estimators': array([   1,  251,  500,  750, 1000]),\n",
       " 'max_features': array([0.1  , 0.325, 0.55 , 0.775, 1.   ])}"
      ]
     },
     "execution_count": 5,
     "metadata": {},
     "output_type": "execute_result"
    }
   ],
   "source": [
    "params = { \n",
    "    'n_estimators': np.linspace(1, 1000, 5).round().astype('int'),\n",
    "    'max_features': np.linspace(0.1, 1, 5)\n",
    "}\n",
    "params"
   ]
  },
  {
   "cell_type": "markdown",
   "metadata": {},
   "source": [
    "## Модели, обученные за года"
   ]
  },
  {
   "cell_type": "code",
   "execution_count": 6,
   "metadata": {},
   "outputs": [],
   "source": [
    "model = RandomForestRegressor(random_state = 100)"
   ]
  },
  {
   "cell_type": "code",
   "execution_count": null,
   "metadata": {
    "scrolled": false
   },
   "outputs": [
    {
     "name": "stdout",
     "output_type": "stream",
     "text": [
      "Пропуски в Wind_dir : 1\n",
      "Пропуски в Wind_speed : 1\n"
     ]
    }
   ],
   "source": [
    "# Срез данных от begin до end\n",
    "begin, end = '2020-01-01', '2023-04-06'\n",
    "\n",
    "for season in ['winters', 'springs', 'summers', 'autumns']:\n",
    "    ModelProcessing(model, sensor, fill, district, begin, end, seasonModel = '', season_test = season, params = params, gridSearch = True, paramDependencies = True, plotRes = False, featImp = False)"
   ]
  },
  {
   "cell_type": "markdown",
   "metadata": {},
   "source": [
    "## Сезонные модели"
   ]
  },
  {
   "cell_type": "code",
   "execution_count": null,
   "metadata": {
    "scrolled": false
   },
   "outputs": [],
   "source": [
    "begin, end = '2019-01-01', '2023-04-06'\n",
    "\n",
    "for season in ['winters', 'springs', 'summers', 'autumns']:\n",
    "    ModelProcessing(model, sensor, fill, district, begin, end, seasonModel = season, season_test = season, params = params, gridSearch = True, paramDependencies = False, plotRes = False, featImp = True)"
   ]
  }
 ],
 "metadata": {
  "kernelspec": {
   "display_name": "Python 3 (ipykernel)",
   "language": "python",
   "name": "python3"
  },
  "language_info": {
   "codemirror_mode": {
    "name": "ipython",
    "version": 3
   },
   "file_extension": ".py",
   "mimetype": "text/x-python",
   "name": "python",
   "nbconvert_exporter": "python",
   "pygments_lexer": "ipython3",
   "version": "3.9.13"
  }
 },
 "nbformat": 4,
 "nbformat_minor": 1
}
