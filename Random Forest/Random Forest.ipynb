{
 "cells": [
  {
   "cell_type": "code",
   "execution_count": 61,
   "metadata": {},
   "outputs": [],
   "source": [
    "import sys\n",
    "sys.path.append('../')\n",
    "\n",
    "from FeatureModels import *\n",
    "from sklearn.ensemble import RandomForestRegressor"
   ]
  },
  {
   "cell_type": "code",
   "execution_count": 62,
   "metadata": {},
   "outputs": [
    {
     "name": "stdout",
     "output_type": "stream",
     "text": [
      "The autoreload extension is already loaded. To reload it, use:\n",
      "  %reload_ext autoreload\n"
     ]
    }
   ],
   "source": [
    "%load_ext autoreload"
   ]
  },
  {
   "cell_type": "code",
   "execution_count": 63,
   "metadata": {},
   "outputs": [],
   "source": [
    "%autoreload 2 "
   ]
  },
  {
   "cell_type": "code",
   "execution_count": 64,
   "metadata": {},
   "outputs": [],
   "source": [
    "sensor = 's'\n",
    "fill = '_fill'\n",
    "\n",
    "district = 'Mean'\n",
    "\n",
    "#savePath = 'Results/Results RF large periods.xlsx'"
   ]
  },
  {
   "cell_type": "code",
   "execution_count": 65,
   "metadata": {},
   "outputs": [
    {
     "data": {
      "text/plain": [
       "{'n_estimators': array([   1,  251,  500,  750, 1000]),\n",
       " 'max_features': array([0.1  , 0.325, 0.55 , 0.775, 1.   ])}"
      ]
     },
     "execution_count": 65,
     "metadata": {},
     "output_type": "execute_result"
    }
   ],
   "source": [
    "params = { \n",
    "    'n_estimators': np.linspace(1, 1000, 5).round().astype('int'),\n",
    "    'max_features': np.linspace(0.1, 1, 5)\n",
    "}\n",
    "params"
   ]
  },
  {
   "cell_type": "markdown",
   "metadata": {},
   "source": [
    "## Модели, обученные за года"
   ]
  },
  {
   "cell_type": "code",
   "execution_count": 66,
   "metadata": {},
   "outputs": [],
   "source": [
    "model = RandomForestRegressor(random_state = 100)"
   ]
  },
  {
   "cell_type": "code",
   "execution_count": 71,
   "metadata": {
    "scrolled": true
   },
   "outputs": [
    {
     "data": {
      "text/html": [
       "<div>\n",
       "<style scoped>\n",
       "    .dataframe tbody tr th:only-of-type {\n",
       "        vertical-align: middle;\n",
       "    }\n",
       "\n",
       "    .dataframe tbody tr th {\n",
       "        vertical-align: top;\n",
       "    }\n",
       "\n",
       "    .dataframe thead th {\n",
       "        text-align: right;\n",
       "    }\n",
       "</style>\n",
       "<table border=\"1\" class=\"dataframe\">\n",
       "  <thead>\n",
       "    <tr style=\"text-align: right;\">\n",
       "      <th></th>\n",
       "      <th>Train</th>\n",
       "      <th>Valid + CV</th>\n",
       "      <th>Test</th>\n",
       "    </tr>\n",
       "    <tr>\n",
       "      <th>2019-01-01 — 2020-01-01 {'max_features': 0.325, 'n_estimators': 251}</th>\n",
       "      <th></th>\n",
       "      <th></th>\n",
       "      <th></th>\n",
       "    </tr>\n",
       "  </thead>\n",
       "  <tbody>\n",
       "    <tr>\n",
       "      <th>MSE</th>\n",
       "      <td>44.5281</td>\n",
       "      <td>294.324993</td>\n",
       "      <td>864.1613</td>\n",
       "    </tr>\n",
       "    <tr>\n",
       "      <th>MAE</th>\n",
       "      <td>4.0673</td>\n",
       "      <td>10.546417</td>\n",
       "      <td>22.1191</td>\n",
       "    </tr>\n",
       "    <tr>\n",
       "      <th>MAPE</th>\n",
       "      <td>0.2530</td>\n",
       "      <td>0.616768</td>\n",
       "      <td>0.8549</td>\n",
       "    </tr>\n",
       "    <tr>\n",
       "      <th>R2</th>\n",
       "      <td>0.9551</td>\n",
       "      <td>0.660946</td>\n",
       "      <td>0.3504</td>\n",
       "    </tr>\n",
       "  </tbody>\n",
       "</table>\n",
       "</div>"
      ],
      "text/plain": [
       "                                                      Train  Valid + CV  \\\n",
       "2019-01-01 — 2020-01-01 {'max_features': 0.325,...                        \n",
       "MSE                                                 44.5281  294.324993   \n",
       "MAE                                                  4.0673   10.546417   \n",
       "MAPE                                                 0.2530    0.616768   \n",
       "R2                                                   0.9551    0.660946   \n",
       "\n",
       "                                                        Test  \n",
       "2019-01-01 — 2020-01-01 {'max_features': 0.325,...            \n",
       "MSE                                                 864.1613  \n",
       "MAE                                                  22.1191  \n",
       "MAPE                                                  0.8549  \n",
       "R2                                                    0.3504  "
      ]
     },
     "metadata": {},
     "output_type": "display_data"
    },
    {
     "data": {
      "text/html": [
       "<div>\n",
       "<style scoped>\n",
       "    .dataframe tbody tr th:only-of-type {\n",
       "        vertical-align: middle;\n",
       "    }\n",
       "\n",
       "    .dataframe tbody tr th {\n",
       "        vertical-align: top;\n",
       "    }\n",
       "\n",
       "    .dataframe thead th {\n",
       "        text-align: right;\n",
       "    }\n",
       "</style>\n",
       "<table border=\"1\" class=\"dataframe\">\n",
       "  <thead>\n",
       "    <tr style=\"text-align: right;\">\n",
       "      <th></th>\n",
       "      <th>Train</th>\n",
       "      <th>Valid + CV</th>\n",
       "      <th>Test</th>\n",
       "    </tr>\n",
       "    <tr>\n",
       "      <th>2019-01-01 — 2020-01-01 {'max_features': 0.325, 'n_estimators': 251}</th>\n",
       "      <th></th>\n",
       "      <th></th>\n",
       "      <th></th>\n",
       "    </tr>\n",
       "  </thead>\n",
       "  <tbody>\n",
       "    <tr>\n",
       "      <th>MSE</th>\n",
       "      <td>44.5281</td>\n",
       "      <td>294.324993</td>\n",
       "      <td>114.2244</td>\n",
       "    </tr>\n",
       "    <tr>\n",
       "      <th>MAE</th>\n",
       "      <td>4.0673</td>\n",
       "      <td>10.546417</td>\n",
       "      <td>8.3749</td>\n",
       "    </tr>\n",
       "    <tr>\n",
       "      <th>MAPE</th>\n",
       "      <td>0.2530</td>\n",
       "      <td>0.616768</td>\n",
       "      <td>0.8421</td>\n",
       "    </tr>\n",
       "    <tr>\n",
       "      <th>R2</th>\n",
       "      <td>0.9551</td>\n",
       "      <td>0.660946</td>\n",
       "      <td>-0.1856</td>\n",
       "    </tr>\n",
       "  </tbody>\n",
       "</table>\n",
       "</div>"
      ],
      "text/plain": [
       "                                                      Train  Valid + CV  \\\n",
       "2019-01-01 — 2020-01-01 {'max_features': 0.325,...                        \n",
       "MSE                                                 44.5281  294.324993   \n",
       "MAE                                                  4.0673   10.546417   \n",
       "MAPE                                                 0.2530    0.616768   \n",
       "R2                                                   0.9551    0.660946   \n",
       "\n",
       "                                                        Test  \n",
       "2019-01-01 — 2020-01-01 {'max_features': 0.325,...            \n",
       "MSE                                                 114.2244  \n",
       "MAE                                                   8.3749  \n",
       "MAPE                                                  0.8421  \n",
       "R2                                                   -0.1856  "
      ]
     },
     "metadata": {},
     "output_type": "display_data"
    },
    {
     "data": {
      "text/html": [
       "<div>\n",
       "<style scoped>\n",
       "    .dataframe tbody tr th:only-of-type {\n",
       "        vertical-align: middle;\n",
       "    }\n",
       "\n",
       "    .dataframe tbody tr th {\n",
       "        vertical-align: top;\n",
       "    }\n",
       "\n",
       "    .dataframe thead th {\n",
       "        text-align: right;\n",
       "    }\n",
       "</style>\n",
       "<table border=\"1\" class=\"dataframe\">\n",
       "  <thead>\n",
       "    <tr style=\"text-align: right;\">\n",
       "      <th></th>\n",
       "      <th>Train</th>\n",
       "      <th>Valid + CV</th>\n",
       "      <th>Test</th>\n",
       "    </tr>\n",
       "    <tr>\n",
       "      <th>2019-01-01 — 2020-01-01 {'max_features': 0.325, 'n_estimators': 251}</th>\n",
       "      <th></th>\n",
       "      <th></th>\n",
       "      <th></th>\n",
       "    </tr>\n",
       "  </thead>\n",
       "  <tbody>\n",
       "    <tr>\n",
       "      <th>MSE</th>\n",
       "      <td>44.5281</td>\n",
       "      <td>294.324993</td>\n",
       "      <td>174.6987</td>\n",
       "    </tr>\n",
       "    <tr>\n",
       "      <th>MAE</th>\n",
       "      <td>4.0673</td>\n",
       "      <td>10.546417</td>\n",
       "      <td>10.6561</td>\n",
       "    </tr>\n",
       "    <tr>\n",
       "      <th>MAPE</th>\n",
       "      <td>0.2530</td>\n",
       "      <td>0.616768</td>\n",
       "      <td>1.4846</td>\n",
       "    </tr>\n",
       "    <tr>\n",
       "      <th>R2</th>\n",
       "      <td>0.9551</td>\n",
       "      <td>0.660946</td>\n",
       "      <td>-2.5855</td>\n",
       "    </tr>\n",
       "  </tbody>\n",
       "</table>\n",
       "</div>"
      ],
      "text/plain": [
       "                                                      Train  Valid + CV  \\\n",
       "2019-01-01 — 2020-01-01 {'max_features': 0.325,...                        \n",
       "MSE                                                 44.5281  294.324993   \n",
       "MAE                                                  4.0673   10.546417   \n",
       "MAPE                                                 0.2530    0.616768   \n",
       "R2                                                   0.9551    0.660946   \n",
       "\n",
       "                                                        Test  \n",
       "2019-01-01 — 2020-01-01 {'max_features': 0.325,...            \n",
       "MSE                                                 174.6987  \n",
       "MAE                                                  10.6561  \n",
       "MAPE                                                  1.4846  \n",
       "R2                                                   -2.5855  "
      ]
     },
     "metadata": {},
     "output_type": "display_data"
    },
    {
     "data": {
      "text/html": [
       "<div>\n",
       "<style scoped>\n",
       "    .dataframe tbody tr th:only-of-type {\n",
       "        vertical-align: middle;\n",
       "    }\n",
       "\n",
       "    .dataframe tbody tr th {\n",
       "        vertical-align: top;\n",
       "    }\n",
       "\n",
       "    .dataframe thead th {\n",
       "        text-align: right;\n",
       "    }\n",
       "</style>\n",
       "<table border=\"1\" class=\"dataframe\">\n",
       "  <thead>\n",
       "    <tr style=\"text-align: right;\">\n",
       "      <th></th>\n",
       "      <th>Train</th>\n",
       "      <th>Valid + CV</th>\n",
       "      <th>Test</th>\n",
       "    </tr>\n",
       "    <tr>\n",
       "      <th>2019-01-01 — 2020-01-01 {'max_features': 0.325, 'n_estimators': 251}</th>\n",
       "      <th></th>\n",
       "      <th></th>\n",
       "      <th></th>\n",
       "    </tr>\n",
       "  </thead>\n",
       "  <tbody>\n",
       "    <tr>\n",
       "      <th>MSE</th>\n",
       "      <td>44.5281</td>\n",
       "      <td>294.324993</td>\n",
       "      <td>170.9388</td>\n",
       "    </tr>\n",
       "    <tr>\n",
       "      <th>MAE</th>\n",
       "      <td>4.0673</td>\n",
       "      <td>10.546417</td>\n",
       "      <td>11.9139</td>\n",
       "    </tr>\n",
       "    <tr>\n",
       "      <th>MAPE</th>\n",
       "      <td>0.2530</td>\n",
       "      <td>0.616768</td>\n",
       "      <td>1.6459</td>\n",
       "    </tr>\n",
       "    <tr>\n",
       "      <th>R2</th>\n",
       "      <td>0.9551</td>\n",
       "      <td>0.660946</td>\n",
       "      <td>-2.8361</td>\n",
       "    </tr>\n",
       "  </tbody>\n",
       "</table>\n",
       "</div>"
      ],
      "text/plain": [
       "                                                      Train  Valid + CV  \\\n",
       "2019-01-01 — 2020-01-01 {'max_features': 0.325,...                        \n",
       "MSE                                                 44.5281  294.324993   \n",
       "MAE                                                  4.0673   10.546417   \n",
       "MAPE                                                 0.2530    0.616768   \n",
       "R2                                                   0.9551    0.660946   \n",
       "\n",
       "                                                        Test  \n",
       "2019-01-01 — 2020-01-01 {'max_features': 0.325,...            \n",
       "MSE                                                 170.9388  \n",
       "MAE                                                  11.9139  \n",
       "MAPE                                                  1.6459  \n",
       "R2                                                   -2.8361  "
      ]
     },
     "metadata": {},
     "output_type": "display_data"
    }
   ],
   "source": [
    "# Срез данных от begin до end\n",
    "begin, end = '2019-01-01', '2020-01-01'\n",
    "\n",
    "for season in ['winters', 'springs', 'summers', 'autumns']:\n",
    "    ModelProcessing(model, sensor, fill, district, begin, end, seasonModel = '', season_test = season, params = params, gridSearch = True, paramDependencies = True, plotRes = False, featImp = False)"
   ]
  },
  {
   "cell_type": "markdown",
   "metadata": {},
   "source": [
    "## Сезонные модели"
   ]
  },
  {
   "cell_type": "code",
   "execution_count": 75,
   "metadata": {
    "scrolled": false
   },
   "outputs": [
    {
     "name": "stdout",
     "output_type": "stream",
     "text": [
      "Пропуски в Wind_dir : 1\n",
      "Пропуски в Wind_speed : 1\n"
     ]
    },
    {
     "data": {
      "text/html": [
       "<div>\n",
       "<style scoped>\n",
       "    .dataframe tbody tr th:only-of-type {\n",
       "        vertical-align: middle;\n",
       "    }\n",
       "\n",
       "    .dataframe tbody tr th {\n",
       "        vertical-align: top;\n",
       "    }\n",
       "\n",
       "    .dataframe thead th {\n",
       "        text-align: right;\n",
       "    }\n",
       "</style>\n",
       "<table border=\"1\" class=\"dataframe\">\n",
       "  <thead>\n",
       "    <tr style=\"text-align: right;\">\n",
       "      <th></th>\n",
       "      <th>Train</th>\n",
       "      <th>Valid + CV</th>\n",
       "      <th>Test</th>\n",
       "    </tr>\n",
       "    <tr>\n",
       "      <th>2019-01-01 — 2023-03-22 {'max_features': 0.775, 'n_estimators': 251}</th>\n",
       "      <th></th>\n",
       "      <th></th>\n",
       "      <th></th>\n",
       "    </tr>\n",
       "  </thead>\n",
       "  <tbody>\n",
       "    <tr>\n",
       "      <th>MSE</th>\n",
       "      <td>71.5611</td>\n",
       "      <td>663.940525</td>\n",
       "      <td>469.2674</td>\n",
       "    </tr>\n",
       "    <tr>\n",
       "      <th>MAE</th>\n",
       "      <td>5.7582</td>\n",
       "      <td>16.697309</td>\n",
       "      <td>15.8172</td>\n",
       "    </tr>\n",
       "    <tr>\n",
       "      <th>MAPE</th>\n",
       "      <td>0.1760</td>\n",
       "      <td>0.435205</td>\n",
       "      <td>0.4684</td>\n",
       "    </tr>\n",
       "    <tr>\n",
       "      <th>R2</th>\n",
       "      <td>0.9647</td>\n",
       "      <td>0.674069</td>\n",
       "      <td>0.6473</td>\n",
       "    </tr>\n",
       "  </tbody>\n",
       "</table>\n",
       "</div>"
      ],
      "text/plain": [
       "                                                      Train  Valid + CV  \\\n",
       "2019-01-01 — 2023-03-22 {'max_features': 0.775,...                        \n",
       "MSE                                                 71.5611  663.940525   \n",
       "MAE                                                  5.7582   16.697309   \n",
       "MAPE                                                 0.1760    0.435205   \n",
       "R2                                                   0.9647    0.674069   \n",
       "\n",
       "                                                        Test  \n",
       "2019-01-01 — 2023-03-22 {'max_features': 0.775,...            \n",
       "MSE                                                 469.2674  \n",
       "MAE                                                  15.8172  \n",
       "MAPE                                                  0.4684  \n",
       "R2                                                    0.6473  "
      ]
     },
     "metadata": {},
     "output_type": "display_data"
    },
    {
     "data": {
      "image/png": "[encoded data removed]",
      "text/plain": [
       "<Figure size 1000x400 with 1 Axes>"
      ]
     },
     "metadata": {},
     "output_type": "display_data"
    },
    {
     "name": "stdout",
     "output_type": "stream",
     "text": [
      "Пропуски в Wind_dir : 1\n",
      "Пропуски в Wind_speed : 1\n"
     ]
    },
    {
     "data": {
      "text/html": [
       "<div>\n",
       "<style scoped>\n",
       "    .dataframe tbody tr th:only-of-type {\n",
       "        vertical-align: middle;\n",
       "    }\n",
       "\n",
       "    .dataframe tbody tr th {\n",
       "        vertical-align: top;\n",
       "    }\n",
       "\n",
       "    .dataframe thead th {\n",
       "        text-align: right;\n",
       "    }\n",
       "</style>\n",
       "<table border=\"1\" class=\"dataframe\">\n",
       "  <thead>\n",
       "    <tr style=\"text-align: right;\">\n",
       "      <th></th>\n",
       "      <th>Train</th>\n",
       "      <th>Valid + CV</th>\n",
       "      <th>Test</th>\n",
       "    </tr>\n",
       "    <tr>\n",
       "      <th>2019-01-01 — 2023-03-22 {'max_features': 0.55, 'n_estimators': 750}</th>\n",
       "      <th></th>\n",
       "      <th></th>\n",
       "      <th></th>\n",
       "    </tr>\n",
       "  </thead>\n",
       "  <tbody>\n",
       "    <tr>\n",
       "      <th>MSE</th>\n",
       "      <td>6.4544</td>\n",
       "      <td>45.423245</td>\n",
       "      <td>43.4523</td>\n",
       "    </tr>\n",
       "    <tr>\n",
       "      <th>MAE</th>\n",
       "      <td>1.8871</td>\n",
       "      <td>5.068126</td>\n",
       "      <td>4.6855</td>\n",
       "    </tr>\n",
       "    <tr>\n",
       "      <th>MAPE</th>\n",
       "      <td>0.1596</td>\n",
       "      <td>0.398337</td>\n",
       "      <td>0.3796</td>\n",
       "    </tr>\n",
       "    <tr>\n",
       "      <th>R2</th>\n",
       "      <td>0.9486</td>\n",
       "      <td>0.609532</td>\n",
       "      <td>0.5490</td>\n",
       "    </tr>\n",
       "  </tbody>\n",
       "</table>\n",
       "</div>"
      ],
      "text/plain": [
       "                                                     Train  Valid + CV  \\\n",
       "2019-01-01 — 2023-03-22 {'max_features': 0.55, ...                       \n",
       "MSE                                                 6.4544   45.423245   \n",
       "MAE                                                 1.8871    5.068126   \n",
       "MAPE                                                0.1596    0.398337   \n",
       "R2                                                  0.9486    0.609532   \n",
       "\n",
       "                                                       Test  \n",
       "2019-01-01 — 2023-03-22 {'max_features': 0.55, ...           \n",
       "MSE                                                 43.4523  \n",
       "MAE                                                  4.6855  \n",
       "MAPE                                                 0.3796  \n",
       "R2                                                   0.5490  "
      ]
     },
     "metadata": {},
     "output_type": "display_data"
    },
    {
     "data": {
      "image/png": "[encoded data removed]",
      "text/plain": [
       "<Figure size 1000x400 with 1 Axes>"
      ]
     },
     "metadata": {},
     "output_type": "display_data"
    },
    {
     "name": "stdout",
     "output_type": "stream",
     "text": [
      "Пропуски в Wind_dir : 1\n",
      "Пропуски в Wind_speed : 1\n"
     ]
    },
    {
     "data": {
      "text/html": [
       "<div>\n",
       "<style scoped>\n",
       "    .dataframe tbody tr th:only-of-type {\n",
       "        vertical-align: middle;\n",
       "    }\n",
       "\n",
       "    .dataframe tbody tr th {\n",
       "        vertical-align: top;\n",
       "    }\n",
       "\n",
       "    .dataframe thead th {\n",
       "        text-align: right;\n",
       "    }\n",
       "</style>\n",
       "<table border=\"1\" class=\"dataframe\">\n",
       "  <thead>\n",
       "    <tr style=\"text-align: right;\">\n",
       "      <th></th>\n",
       "      <th>Train</th>\n",
       "      <th>Valid + CV</th>\n",
       "      <th>Test</th>\n",
       "    </tr>\n",
       "    <tr>\n",
       "      <th>2019-01-01 — 2023-03-22 {'max_features': 0.1, 'n_estimators': 251}</th>\n",
       "      <th></th>\n",
       "      <th></th>\n",
       "      <th></th>\n",
       "    </tr>\n",
       "  </thead>\n",
       "  <tbody>\n",
       "    <tr>\n",
       "      <th>MSE</th>\n",
       "      <td>3.5261</td>\n",
       "      <td>27.284757</td>\n",
       "      <td>28.5808</td>\n",
       "    </tr>\n",
       "    <tr>\n",
       "      <th>MAE</th>\n",
       "      <td>1.2153</td>\n",
       "      <td>3.700823</td>\n",
       "      <td>4.0927</td>\n",
       "    </tr>\n",
       "    <tr>\n",
       "      <th>MAPE</th>\n",
       "      <td>0.1634</td>\n",
       "      <td>0.493257</td>\n",
       "      <td>0.4921</td>\n",
       "    </tr>\n",
       "    <tr>\n",
       "      <th>R2</th>\n",
       "      <td>0.8985</td>\n",
       "      <td>0.202384</td>\n",
       "      <td>0.4134</td>\n",
       "    </tr>\n",
       "  </tbody>\n",
       "</table>\n",
       "</div>"
      ],
      "text/plain": [
       "                                                     Train  Valid + CV  \\\n",
       "2019-01-01 — 2023-03-22 {'max_features': 0.1, '...                       \n",
       "MSE                                                 3.5261   27.284757   \n",
       "MAE                                                 1.2153    3.700823   \n",
       "MAPE                                                0.1634    0.493257   \n",
       "R2                                                  0.8985    0.202384   \n",
       "\n",
       "                                                       Test  \n",
       "2019-01-01 — 2023-03-22 {'max_features': 0.1, '...           \n",
       "MSE                                                 28.5808  \n",
       "MAE                                                  4.0927  \n",
       "MAPE                                                 0.4921  \n",
       "R2                                                   0.4134  "
      ]
     },
     "metadata": {},
     "output_type": "display_data"
    },
    {
     "data": {
      "image/png": "[encoded data removed]",
      "text/plain": [
       "<Figure size 1000x400 with 1 Axes>"
      ]
     },
     "metadata": {},
     "output_type": "display_data"
    },
    {
     "name": "stdout",
     "output_type": "stream",
     "text": [
      "Пропуски в Wind_dir : 1\n",
      "Пропуски в Wind_speed : 1\n"
     ]
    },
    {
     "data": {
      "text/html": [
       "<div>\n",
       "<style scoped>\n",
       "    .dataframe tbody tr th:only-of-type {\n",
       "        vertical-align: middle;\n",
       "    }\n",
       "\n",
       "    .dataframe tbody tr th {\n",
       "        vertical-align: top;\n",
       "    }\n",
       "\n",
       "    .dataframe thead th {\n",
       "        text-align: right;\n",
       "    }\n",
       "</style>\n",
       "<table border=\"1\" class=\"dataframe\">\n",
       "  <thead>\n",
       "    <tr style=\"text-align: right;\">\n",
       "      <th></th>\n",
       "      <th>Train</th>\n",
       "      <th>Valid + CV</th>\n",
       "      <th>Test</th>\n",
       "    </tr>\n",
       "    <tr>\n",
       "      <th>2019-01-01 — 2023-03-22 {'max_features': 0.775, 'n_estimators': 1000}</th>\n",
       "      <th></th>\n",
       "      <th></th>\n",
       "      <th></th>\n",
       "    </tr>\n",
       "  </thead>\n",
       "  <tbody>\n",
       "    <tr>\n",
       "      <th>MSE</th>\n",
       "      <td>3.2351</td>\n",
       "      <td>27.007954</td>\n",
       "      <td>30.2402</td>\n",
       "    </tr>\n",
       "    <tr>\n",
       "      <th>MAE</th>\n",
       "      <td>1.3401</td>\n",
       "      <td>3.617294</td>\n",
       "      <td>4.2676</td>\n",
       "    </tr>\n",
       "    <tr>\n",
       "      <th>MAPE</th>\n",
       "      <td>0.1727</td>\n",
       "      <td>0.435188</td>\n",
       "      <td>0.6449</td>\n",
       "    </tr>\n",
       "    <tr>\n",
       "      <th>R2</th>\n",
       "      <td>0.9514</td>\n",
       "      <td>0.481326</td>\n",
       "      <td>0.3214</td>\n",
       "    </tr>\n",
       "  </tbody>\n",
       "</table>\n",
       "</div>"
      ],
      "text/plain": [
       "                                                     Train  Valid + CV  \\\n",
       "2019-01-01 — 2023-03-22 {'max_features': 0.775,...                       \n",
       "MSE                                                 3.2351   27.007954   \n",
       "MAE                                                 1.3401    3.617294   \n",
       "MAPE                                                0.1727    0.435188   \n",
       "R2                                                  0.9514    0.481326   \n",
       "\n",
       "                                                       Test  \n",
       "2019-01-01 — 2023-03-22 {'max_features': 0.775,...           \n",
       "MSE                                                 30.2402  \n",
       "MAE                                                  4.2676  \n",
       "MAPE                                                 0.6449  \n",
       "R2                                                   0.3214  "
      ]
     },
     "metadata": {},
     "output_type": "display_data"
    },
    {
     "data": {
      "image/png": "[encoded data removed]",
      "text/plain": [
       "<Figure size 1000x400 with 1 Axes>"
      ]
     },
     "metadata": {},
     "output_type": "display_data"
    }
   ],
   "source": [
    "begin, end = '2019-01-01', '2023-04-06'\n",
    "\n",
    "for season in ['winters', 'springs', 'summers', 'autumns']:\n",
    "    ModelProcessing(model, sensor, fill, district, begin, end, seasonModel = season, season_test = season, params = params, gridSearch = True, paramDependencies = False, plotRes = False, featImp = True)"
   ]
  }
 ],
 "metadata": {
  "kernelspec": {
   "display_name": "Python 3 (ipykernel)",
   "language": "python",
   "name": "python3"
  },
  "language_info": {
   "codemirror_mode": {
    "name": "ipython",
    "version": 3
   },
   "file_extension": ".py",
   "mimetype": "text/x-python",
   "name": "python",
   "nbconvert_exporter": "python",
   "pygments_lexer": "ipython3",
   "version": "3.9.13"
  }
 },
 "nbformat": 4,
 "nbformat_minor": 1
}
