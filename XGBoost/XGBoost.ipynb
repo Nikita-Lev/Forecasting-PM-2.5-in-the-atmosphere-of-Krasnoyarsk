{
 "cells": [
  {
   "cell_type": "code",
   "execution_count": 17,
   "metadata": {},
   "outputs": [],
   "source": [
    "import sys\n",
    "sys.path.append('../')\n",
    "\n",
    "from FeatureModels import *\n",
    "from sklearn.ensemble import GradientBoostingRegressor"
   ]
  },
  {
   "cell_type": "code",
   "execution_count": 18,
   "metadata": {},
   "outputs": [
    {
     "name": "stdout",
     "output_type": "stream",
     "text": [
      "The autoreload extension is already loaded. To reload it, use:\n",
      "  %reload_ext autoreload\n"
     ]
    }
   ],
   "source": [
    "%load_ext autoreload"
   ]
  },
  {
   "cell_type": "code",
   "execution_count": 19,
   "metadata": {},
   "outputs": [],
   "source": [
    "%autoreload 2 "
   ]
  },
  {
   "cell_type": "code",
   "execution_count": 20,
   "metadata": {},
   "outputs": [],
   "source": [
    "sensor = 's'\n",
    "fill = '_fill'\n",
    "\n",
    "district = 'Mean'\n",
    "\n",
    "#savePath = 'Results/Results RF large periods.xlsx'"
   ]
  },
  {
   "cell_type": "code",
   "execution_count": 21,
   "metadata": {},
   "outputs": [
    {
     "data": {
      "text/plain": [
       "{'n_estimators': array([ 251,  626, 1000]),\n",
       " 'max_depth': [2, 3],\n",
       " 'learning_rate': [0.05, 0.1, 0.15, 0.2, 0.5],\n",
       " 'max_features': array([0.1  , 0.325, 0.55 , 0.775, 1.   ]),\n",
       " 'subsample': [0.5, 1.0]}"
      ]
     },
     "execution_count": 21,
     "metadata": {},
     "output_type": "execute_result"
    }
   ],
   "source": [
    "params = { \n",
    "    'n_estimators': np.linspace(251, 1000, 3).round().astype('int'),\n",
    "    'max_depth' : [2, 3],\n",
    "    'learning_rate' : [0.05, 0.1, 0.15, 0.2, 0.5],\n",
    "    'max_features': np.linspace(0.1, 1, 5),\n",
    "    'subsample': [0.5, 1.0],\n",
    "}\n",
    "params"
   ]
  },
  {
   "cell_type": "raw",
   "metadata": {},
   "source": [
    "params = { \n",
    "    'n_estimators': [1000],\n",
    "    'max_depth' : [2],\n",
    "    'learning_rate' : [0.05],\n",
    "    'max_features': [0.1],\n",
    "    'subsample': [1],\n",
    "}\n",
    "params"
   ]
  },
  {
   "cell_type": "markdown",
   "metadata": {},
   "source": [
    "## Модели, обученные за года"
   ]
  },
  {
   "cell_type": "code",
   "execution_count": 22,
   "metadata": {},
   "outputs": [],
   "source": [
    "model = GradientBoostingRegressor(random_state = 100)"
   ]
  },
  {
   "cell_type": "code",
   "execution_count": 23,
   "metadata": {
    "scrolled": false
   },
   "outputs": [
    {
     "name": "stdout",
     "output_type": "stream",
     "text": [
      "Пропуски в Wind_dir : 1\n",
      "Пропуски в Wind_speed : 1\n"
     ]
    },
    {
     "data": {
      "text/html": [
       "<div>\n",
       "<style scoped>\n",
       "    .dataframe tbody tr th:only-of-type {\n",
       "        vertical-align: middle;\n",
       "    }\n",
       "\n",
       "    .dataframe tbody tr th {\n",
       "        vertical-align: top;\n",
       "    }\n",
       "\n",
       "    .dataframe thead th {\n",
       "        text-align: right;\n",
       "    }\n",
       "</style>\n",
       "<table border=\"1\" class=\"dataframe\">\n",
       "  <thead>\n",
       "    <tr style=\"text-align: right;\">\n",
       "      <th></th>\n",
       "      <th>Train</th>\n",
       "      <th>Valid</th>\n",
       "      <th>Test</th>\n",
       "    </tr>\n",
       "    <tr>\n",
       "      <th>2019-01-01 — 2023-03-22 {'learning_rate': 0.1, 'max_depth': 3, 'max_features': 0.1, 'n_estimators': 626, 'subsample': 1.0}</th>\n",
       "      <th></th>\n",
       "      <th></th>\n",
       "      <th></th>\n",
       "    </tr>\n",
       "  </thead>\n",
       "  <tbody>\n",
       "    <tr>\n",
       "      <th>MSE</th>\n",
       "      <td>21.3120</td>\n",
       "      <td>175.7121</td>\n",
       "      <td>339.9008</td>\n",
       "    </tr>\n",
       "    <tr>\n",
       "      <th>MAE</th>\n",
       "      <td>3.0846</td>\n",
       "      <td>8.0881</td>\n",
       "      <td>13.2837</td>\n",
       "    </tr>\n",
       "    <tr>\n",
       "      <th>MAPE</th>\n",
       "      <td>0.2355</td>\n",
       "      <td>0.5128</td>\n",
       "      <td>0.4153</td>\n",
       "    </tr>\n",
       "    <tr>\n",
       "      <th>R2</th>\n",
       "      <td>0.9762</td>\n",
       "      <td>0.8121</td>\n",
       "      <td>0.7445</td>\n",
       "    </tr>\n",
       "  </tbody>\n",
       "</table>\n",
       "</div>"
      ],
      "text/plain": [
       "                                                      Train     Valid  \\\n",
       "2019-01-01 — 2023-03-22 {'learning_rate': 0.1, ...                      \n",
       "MSE                                                 21.3120  175.7121   \n",
       "MAE                                                  3.0846    8.0881   \n",
       "MAPE                                                 0.2355    0.5128   \n",
       "R2                                                   0.9762    0.8121   \n",
       "\n",
       "                                                        Test  \n",
       "2019-01-01 — 2023-03-22 {'learning_rate': 0.1, ...            \n",
       "MSE                                                 339.9008  \n",
       "MAE                                                  13.2837  \n",
       "MAPE                                                  0.4153  \n",
       "R2                                                    0.7445  "
      ]
     },
     "metadata": {},
     "output_type": "display_data"
    },
    {
     "name": "stdout",
     "output_type": "stream",
     "text": [
      "Пропуски в Wind_dir : 1\n",
      "Пропуски в Wind_speed : 1\n"
     ]
    },
    {
     "data": {
      "text/html": [
       "<div>\n",
       "<style scoped>\n",
       "    .dataframe tbody tr th:only-of-type {\n",
       "        vertical-align: middle;\n",
       "    }\n",
       "\n",
       "    .dataframe tbody tr th {\n",
       "        vertical-align: top;\n",
       "    }\n",
       "\n",
       "    .dataframe thead th {\n",
       "        text-align: right;\n",
       "    }\n",
       "</style>\n",
       "<table border=\"1\" class=\"dataframe\">\n",
       "  <thead>\n",
       "    <tr style=\"text-align: right;\">\n",
       "      <th></th>\n",
       "      <th>Train</th>\n",
       "      <th>Valid</th>\n",
       "      <th>Test</th>\n",
       "    </tr>\n",
       "    <tr>\n",
       "      <th>2019-01-01 — 2023-03-22 {'learning_rate': 0.1, 'max_depth': 3, 'max_features': 0.1, 'n_estimators': 626, 'subsample': 1.0}</th>\n",
       "      <th></th>\n",
       "      <th></th>\n",
       "      <th></th>\n",
       "    </tr>\n",
       "  </thead>\n",
       "  <tbody>\n",
       "    <tr>\n",
       "      <th>MSE</th>\n",
       "      <td>21.3120</td>\n",
       "      <td>175.7121</td>\n",
       "      <td>57.1098</td>\n",
       "    </tr>\n",
       "    <tr>\n",
       "      <th>MAE</th>\n",
       "      <td>3.0846</td>\n",
       "      <td>8.0881</td>\n",
       "      <td>6.1850</td>\n",
       "    </tr>\n",
       "    <tr>\n",
       "      <th>MAPE</th>\n",
       "      <td>0.2355</td>\n",
       "      <td>0.5128</td>\n",
       "      <td>0.5621</td>\n",
       "    </tr>\n",
       "    <tr>\n",
       "      <th>R2</th>\n",
       "      <td>0.9762</td>\n",
       "      <td>0.8121</td>\n",
       "      <td>0.4072</td>\n",
       "    </tr>\n",
       "  </tbody>\n",
       "</table>\n",
       "</div>"
      ],
      "text/plain": [
       "                                                      Train     Valid     Test\n",
       "2019-01-01 — 2023-03-22 {'learning_rate': 0.1, ...                            \n",
       "MSE                                                 21.3120  175.7121  57.1098\n",
       "MAE                                                  3.0846    8.0881   6.1850\n",
       "MAPE                                                 0.2355    0.5128   0.5621\n",
       "R2                                                   0.9762    0.8121   0.4072"
      ]
     },
     "metadata": {},
     "output_type": "display_data"
    },
    {
     "name": "stdout",
     "output_type": "stream",
     "text": [
      "Пропуски в Wind_dir : 1\n",
      "Пропуски в Wind_speed : 1\n"
     ]
    },
    {
     "data": {
      "text/html": [
       "<div>\n",
       "<style scoped>\n",
       "    .dataframe tbody tr th:only-of-type {\n",
       "        vertical-align: middle;\n",
       "    }\n",
       "\n",
       "    .dataframe tbody tr th {\n",
       "        vertical-align: top;\n",
       "    }\n",
       "\n",
       "    .dataframe thead th {\n",
       "        text-align: right;\n",
       "    }\n",
       "</style>\n",
       "<table border=\"1\" class=\"dataframe\">\n",
       "  <thead>\n",
       "    <tr style=\"text-align: right;\">\n",
       "      <th></th>\n",
       "      <th>Train</th>\n",
       "      <th>Valid</th>\n",
       "      <th>Test</th>\n",
       "    </tr>\n",
       "    <tr>\n",
       "      <th>2019-01-01 — 2023-03-22 {'learning_rate': 0.1, 'max_depth': 3, 'max_features': 0.1, 'n_estimators': 626, 'subsample': 1.0}</th>\n",
       "      <th></th>\n",
       "      <th></th>\n",
       "      <th></th>\n",
       "    </tr>\n",
       "  </thead>\n",
       "  <tbody>\n",
       "    <tr>\n",
       "      <th>MSE</th>\n",
       "      <td>21.3120</td>\n",
       "      <td>175.7121</td>\n",
       "      <td>55.5875</td>\n",
       "    </tr>\n",
       "    <tr>\n",
       "      <th>MAE</th>\n",
       "      <td>3.0846</td>\n",
       "      <td>8.0881</td>\n",
       "      <td>5.6203</td>\n",
       "    </tr>\n",
       "    <tr>\n",
       "      <th>MAPE</th>\n",
       "      <td>0.2355</td>\n",
       "      <td>0.5128</td>\n",
       "      <td>0.7552</td>\n",
       "    </tr>\n",
       "    <tr>\n",
       "      <th>R2</th>\n",
       "      <td>0.9762</td>\n",
       "      <td>0.8121</td>\n",
       "      <td>-0.1409</td>\n",
       "    </tr>\n",
       "  </tbody>\n",
       "</table>\n",
       "</div>"
      ],
      "text/plain": [
       "                                                      Train     Valid     Test\n",
       "2019-01-01 — 2023-03-22 {'learning_rate': 0.1, ...                            \n",
       "MSE                                                 21.3120  175.7121  55.5875\n",
       "MAE                                                  3.0846    8.0881   5.6203\n",
       "MAPE                                                 0.2355    0.5128   0.7552\n",
       "R2                                                   0.9762    0.8121  -0.1409"
      ]
     },
     "metadata": {},
     "output_type": "display_data"
    },
    {
     "name": "stdout",
     "output_type": "stream",
     "text": [
      "Пропуски в Wind_dir : 1\n",
      "Пропуски в Wind_speed : 1\n"
     ]
    },
    {
     "data": {
      "text/html": [
       "<div>\n",
       "<style scoped>\n",
       "    .dataframe tbody tr th:only-of-type {\n",
       "        vertical-align: middle;\n",
       "    }\n",
       "\n",
       "    .dataframe tbody tr th {\n",
       "        vertical-align: top;\n",
       "    }\n",
       "\n",
       "    .dataframe thead th {\n",
       "        text-align: right;\n",
       "    }\n",
       "</style>\n",
       "<table border=\"1\" class=\"dataframe\">\n",
       "  <thead>\n",
       "    <tr style=\"text-align: right;\">\n",
       "      <th></th>\n",
       "      <th>Train</th>\n",
       "      <th>Valid</th>\n",
       "      <th>Test</th>\n",
       "    </tr>\n",
       "    <tr>\n",
       "      <th>2019-01-01 — 2023-03-22 {'learning_rate': 0.1, 'max_depth': 3, 'max_features': 0.1, 'n_estimators': 626, 'subsample': 1.0}</th>\n",
       "      <th></th>\n",
       "      <th></th>\n",
       "      <th></th>\n",
       "    </tr>\n",
       "  </thead>\n",
       "  <tbody>\n",
       "    <tr>\n",
       "      <th>MSE</th>\n",
       "      <td>21.3120</td>\n",
       "      <td>175.7121</td>\n",
       "      <td>32.1567</td>\n",
       "    </tr>\n",
       "    <tr>\n",
       "      <th>MAE</th>\n",
       "      <td>3.0846</td>\n",
       "      <td>8.0881</td>\n",
       "      <td>4.5427</td>\n",
       "    </tr>\n",
       "    <tr>\n",
       "      <th>MAPE</th>\n",
       "      <td>0.2355</td>\n",
       "      <td>0.5128</td>\n",
       "      <td>0.6317</td>\n",
       "    </tr>\n",
       "    <tr>\n",
       "      <th>R2</th>\n",
       "      <td>0.9762</td>\n",
       "      <td>0.8121</td>\n",
       "      <td>0.2784</td>\n",
       "    </tr>\n",
       "  </tbody>\n",
       "</table>\n",
       "</div>"
      ],
      "text/plain": [
       "                                                      Train     Valid     Test\n",
       "2019-01-01 — 2023-03-22 {'learning_rate': 0.1, ...                            \n",
       "MSE                                                 21.3120  175.7121  32.1567\n",
       "MAE                                                  3.0846    8.0881   4.5427\n",
       "MAPE                                                 0.2355    0.5128   0.6317\n",
       "R2                                                   0.9762    0.8121   0.2784"
      ]
     },
     "metadata": {},
     "output_type": "display_data"
    }
   ],
   "source": [
    "# Срез данных от begin до end\n",
    "begin, end = '2019-01-01', '2023-04-06'\n",
    "\n",
    "for season in ['winters', 'springs', 'summers', 'autumns']:\n",
    "    ModelProcessing(model, sensor, fill, district, begin, end, seasonModel = '', season_test = season, params = params, gridSearch = True, paramDependencies = False, plotRes = False, featImp = False)"
   ]
  },
  {
   "cell_type": "markdown",
   "metadata": {},
   "source": [
    "## Сезонные модели"
   ]
  },
  {
   "cell_type": "code",
   "execution_count": 16,
   "metadata": {
    "scrolled": false
   },
   "outputs": [
    {
     "name": "stdout",
     "output_type": "stream",
     "text": [
      "Пропуски в Wind_dir : 1\n",
      "Пропуски в Wind_speed : 1\n"
     ]
    },
    {
     "data": {
      "text/html": [
       "<div>\n",
       "<style scoped>\n",
       "    .dataframe tbody tr th:only-of-type {\n",
       "        vertical-align: middle;\n",
       "    }\n",
       "\n",
       "    .dataframe tbody tr th {\n",
       "        vertical-align: top;\n",
       "    }\n",
       "\n",
       "    .dataframe thead th {\n",
       "        text-align: right;\n",
       "    }\n",
       "</style>\n",
       "<table border=\"1\" class=\"dataframe\">\n",
       "  <thead>\n",
       "    <tr style=\"text-align: right;\">\n",
       "      <th></th>\n",
       "      <th>Train</th>\n",
       "      <th>Valid</th>\n",
       "      <th>Test</th>\n",
       "    </tr>\n",
       "    <tr>\n",
       "      <th>2019-01-01 — 2023-03-22 {'learning_rate': 0.05, 'max_depth': 3, 'max_features': 0.775, 'n_estimators': 251, 'subsample': 0.5}</th>\n",
       "      <th></th>\n",
       "      <th></th>\n",
       "      <th></th>\n",
       "    </tr>\n",
       "  </thead>\n",
       "  <tbody>\n",
       "    <tr>\n",
       "      <th>MSE</th>\n",
       "      <td>39.9416</td>\n",
       "      <td>792.1815</td>\n",
       "      <td>577.1694</td>\n",
       "    </tr>\n",
       "    <tr>\n",
       "      <th>MAE</th>\n",
       "      <td>5.1366</td>\n",
       "      <td>17.5315</td>\n",
       "      <td>17.1519</td>\n",
       "    </tr>\n",
       "    <tr>\n",
       "      <th>MAPE</th>\n",
       "      <td>0.2022</td>\n",
       "      <td>0.3754</td>\n",
       "      <td>0.5002</td>\n",
       "    </tr>\n",
       "    <tr>\n",
       "      <th>R2</th>\n",
       "      <td>0.9803</td>\n",
       "      <td>0.6115</td>\n",
       "      <td>0.5661</td>\n",
       "    </tr>\n",
       "  </tbody>\n",
       "</table>\n",
       "</div>"
      ],
      "text/plain": [
       "                                                      Train     Valid  \\\n",
       "2019-01-01 — 2023-03-22 {'learning_rate': 0.05,...                      \n",
       "MSE                                                 39.9416  792.1815   \n",
       "MAE                                                  5.1366   17.5315   \n",
       "MAPE                                                 0.2022    0.3754   \n",
       "R2                                                   0.9803    0.6115   \n",
       "\n",
       "                                                        Test  \n",
       "2019-01-01 — 2023-03-22 {'learning_rate': 0.05,...            \n",
       "MSE                                                 577.1694  \n",
       "MAE                                                  17.1519  \n",
       "MAPE                                                  0.5002  \n",
       "R2                                                    0.5661  "
      ]
     },
     "metadata": {},
     "output_type": "display_data"
    },
    {
     "data": {
      "image/png": "[encoded data removed]",
      "text/plain": [
       "<Figure size 1000x400 with 1 Axes>"
      ]
     },
     "metadata": {},
     "output_type": "display_data"
    },
    {
     "name": "stdout",
     "output_type": "stream",
     "text": [
      "Пропуски в Wind_dir : 1\n",
      "Пропуски в Wind_speed : 1\n"
     ]
    },
    {
     "data": {
      "text/html": [
       "<div>\n",
       "<style scoped>\n",
       "    .dataframe tbody tr th:only-of-type {\n",
       "        vertical-align: middle;\n",
       "    }\n",
       "\n",
       "    .dataframe tbody tr th {\n",
       "        vertical-align: top;\n",
       "    }\n",
       "\n",
       "    .dataframe thead th {\n",
       "        text-align: right;\n",
       "    }\n",
       "</style>\n",
       "<table border=\"1\" class=\"dataframe\">\n",
       "  <thead>\n",
       "    <tr style=\"text-align: right;\">\n",
       "      <th></th>\n",
       "      <th>Train</th>\n",
       "      <th>Valid</th>\n",
       "      <th>Test</th>\n",
       "    </tr>\n",
       "    <tr>\n",
       "      <th>2019-01-01 — 2023-03-22 {'learning_rate': 0.1, 'max_depth': 2, 'max_features': 0.325, 'n_estimators': 251, 'subsample': 1.0}</th>\n",
       "      <th></th>\n",
       "      <th></th>\n",
       "      <th></th>\n",
       "    </tr>\n",
       "  </thead>\n",
       "  <tbody>\n",
       "    <tr>\n",
       "      <th>MSE</th>\n",
       "      <td>5.8930</td>\n",
       "      <td>41.5085</td>\n",
       "      <td>44.8527</td>\n",
       "    </tr>\n",
       "    <tr>\n",
       "      <th>MAE</th>\n",
       "      <td>1.8890</td>\n",
       "      <td>4.9243</td>\n",
       "      <td>4.6110</td>\n",
       "    </tr>\n",
       "    <tr>\n",
       "      <th>MAPE</th>\n",
       "      <td>0.1809</td>\n",
       "      <td>0.3403</td>\n",
       "      <td>0.3802</td>\n",
       "    </tr>\n",
       "    <tr>\n",
       "      <th>R2</th>\n",
       "      <td>0.9530</td>\n",
       "      <td>0.6202</td>\n",
       "      <td>0.5344</td>\n",
       "    </tr>\n",
       "  </tbody>\n",
       "</table>\n",
       "</div>"
      ],
      "text/plain": [
       "                                                     Train    Valid     Test\n",
       "2019-01-01 — 2023-03-22 {'learning_rate': 0.1, ...                          \n",
       "MSE                                                 5.8930  41.5085  44.8527\n",
       "MAE                                                 1.8890   4.9243   4.6110\n",
       "MAPE                                                0.1809   0.3403   0.3802\n",
       "R2                                                  0.9530   0.6202   0.5344"
      ]
     },
     "metadata": {},
     "output_type": "display_data"
    },
    {
     "data": {
      "image/png": "[encoded data removed]",
      "text/plain": [
       "<Figure size 1000x400 with 1 Axes>"
      ]
     },
     "metadata": {},
     "output_type": "display_data"
    },
    {
     "name": "stdout",
     "output_type": "stream",
     "text": [
      "Пропуски в Wind_dir : 1\n",
      "Пропуски в Wind_speed : 1\n"
     ]
    },
    {
     "data": {
      "text/html": [
       "<div>\n",
       "<style scoped>\n",
       "    .dataframe tbody tr th:only-of-type {\n",
       "        vertical-align: middle;\n",
       "    }\n",
       "\n",
       "    .dataframe tbody tr th {\n",
       "        vertical-align: top;\n",
       "    }\n",
       "\n",
       "    .dataframe thead th {\n",
       "        text-align: right;\n",
       "    }\n",
       "</style>\n",
       "<table border=\"1\" class=\"dataframe\">\n",
       "  <thead>\n",
       "    <tr style=\"text-align: right;\">\n",
       "      <th></th>\n",
       "      <th>Train</th>\n",
       "      <th>Valid</th>\n",
       "      <th>Test</th>\n",
       "    </tr>\n",
       "    <tr>\n",
       "      <th>2019-01-01 — 2023-03-22 {'learning_rate': 0.05, 'max_depth': 2, 'max_features': 0.1, 'n_estimators': 251, 'subsample': 0.5}</th>\n",
       "      <th></th>\n",
       "      <th></th>\n",
       "      <th></th>\n",
       "    </tr>\n",
       "  </thead>\n",
       "  <tbody>\n",
       "    <tr>\n",
       "      <th>MSE</th>\n",
       "      <td>9.8190</td>\n",
       "      <td>26.4189</td>\n",
       "      <td>22.9065</td>\n",
       "    </tr>\n",
       "    <tr>\n",
       "      <th>MAE</th>\n",
       "      <td>2.0329</td>\n",
       "      <td>3.9828</td>\n",
       "      <td>3.8354</td>\n",
       "    </tr>\n",
       "    <tr>\n",
       "      <th>MAPE</th>\n",
       "      <td>0.2777</td>\n",
       "      <td>0.5170</td>\n",
       "      <td>0.4589</td>\n",
       "    </tr>\n",
       "    <tr>\n",
       "      <th>R2</th>\n",
       "      <td>0.7174</td>\n",
       "      <td>0.2367</td>\n",
       "      <td>0.5299</td>\n",
       "    </tr>\n",
       "  </tbody>\n",
       "</table>\n",
       "</div>"
      ],
      "text/plain": [
       "                                                     Train    Valid     Test\n",
       "2019-01-01 — 2023-03-22 {'learning_rate': 0.05,...                          \n",
       "MSE                                                 9.8190  26.4189  22.9065\n",
       "MAE                                                 2.0329   3.9828   3.8354\n",
       "MAPE                                                0.2777   0.5170   0.4589\n",
       "R2                                                  0.7174   0.2367   0.5299"
      ]
     },
     "metadata": {},
     "output_type": "display_data"
    },
    {
     "data": {
      "image/png": "[encoded data removed]",
      "text/plain": [
       "<Figure size 1000x400 with 1 Axes>"
      ]
     },
     "metadata": {},
     "output_type": "display_data"
    },
    {
     "name": "stdout",
     "output_type": "stream",
     "text": [
      "Пропуски в Wind_dir : 1\n",
      "Пропуски в Wind_speed : 1\n"
     ]
    },
    {
     "data": {
      "text/html": [
       "<div>\n",
       "<style scoped>\n",
       "    .dataframe tbody tr th:only-of-type {\n",
       "        vertical-align: middle;\n",
       "    }\n",
       "\n",
       "    .dataframe tbody tr th {\n",
       "        vertical-align: top;\n",
       "    }\n",
       "\n",
       "    .dataframe thead th {\n",
       "        text-align: right;\n",
       "    }\n",
       "</style>\n",
       "<table border=\"1\" class=\"dataframe\">\n",
       "  <thead>\n",
       "    <tr style=\"text-align: right;\">\n",
       "      <th></th>\n",
       "      <th>Train</th>\n",
       "      <th>Valid</th>\n",
       "      <th>Test</th>\n",
       "    </tr>\n",
       "    <tr>\n",
       "      <th>2019-01-01 — 2023-03-22 {'learning_rate': 0.05, 'max_depth': 3, 'max_features': 0.55, 'n_estimators': 251, 'subsample': 1.0}</th>\n",
       "      <th></th>\n",
       "      <th></th>\n",
       "      <th></th>\n",
       "    </tr>\n",
       "  </thead>\n",
       "  <tbody>\n",
       "    <tr>\n",
       "      <th>MSE</th>\n",
       "      <td>1.3134</td>\n",
       "      <td>26.0024</td>\n",
       "      <td>23.7800</td>\n",
       "    </tr>\n",
       "    <tr>\n",
       "      <th>MAE</th>\n",
       "      <td>0.9082</td>\n",
       "      <td>3.4924</td>\n",
       "      <td>3.9319</td>\n",
       "    </tr>\n",
       "    <tr>\n",
       "      <th>MAPE</th>\n",
       "      <td>0.1194</td>\n",
       "      <td>0.4000</td>\n",
       "      <td>0.5991</td>\n",
       "    </tr>\n",
       "    <tr>\n",
       "      <th>R2</th>\n",
       "      <td>0.9803</td>\n",
       "      <td>0.4337</td>\n",
       "      <td>0.4663</td>\n",
       "    </tr>\n",
       "  </tbody>\n",
       "</table>\n",
       "</div>"
      ],
      "text/plain": [
       "                                                     Train    Valid     Test\n",
       "2019-01-01 — 2023-03-22 {'learning_rate': 0.05,...                          \n",
       "MSE                                                 1.3134  26.0024  23.7800\n",
       "MAE                                                 0.9082   3.4924   3.9319\n",
       "MAPE                                                0.1194   0.4000   0.5991\n",
       "R2                                                  0.9803   0.4337   0.4663"
      ]
     },
     "metadata": {},
     "output_type": "display_data"
    },
    {
     "data": {
      "image/png": "[encoded data removed]",
      "text/plain": [
       "<Figure size 1000x400 with 1 Axes>"
      ]
     },
     "metadata": {},
     "output_type": "display_data"
    }
   ],
   "source": [
    "begin, end = '2019-01-01', '2023-04-06'\n",
    "\n",
    "for season in ['winters', 'springs', 'summers', 'autumns']:\n",
    "    ModelProcessing(model, sensor, fill, district, begin, end, seasonModel = season, season_test = season, params = params, gridSearch = True, paramDependencies = False, plotRes = False, featImp = True)"
   ]
  }
 ],
 "metadata": {
  "kernelspec": {
   "display_name": "Python 3 (ipykernel)",
   "language": "python",
   "name": "python3"
  },
  "language_info": {
   "codemirror_mode": {
    "name": "ipython",
    "version": 3
   },
   "file_extension": ".py",
   "mimetype": "text/x-python",
   "name": "python",
   "nbconvert_exporter": "python",
   "pygments_lexer": "ipython3",
   "version": "3.9.13"
  }
 },
 "nbformat": 4,
 "nbformat_minor": 1
}
